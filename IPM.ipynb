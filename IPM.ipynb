{
 "cells": [
  {
   "cell_type": "markdown",
   "metadata": {},
   "source": [
    "# The incremental proximal method\n",
    "\n",
    "In this simple notebook, we will implement look at the incremental proximal method and implement it for a simple linear regression model.\n",
    "\n",
    "We are interested in minimizing a function $f(\\theta)$ and obtaining the solution,\n",
    "\n",
    "\\begin{align*}\n",
    "\\theta^* = \\arg\\min_{\\theta \\in \\mathbb{R}^d} f(\\theta).\n",
    "\\end{align*}\n",
    "\n",
    "For this particular problem, we will assume that we have a cost function of form,\n",
    "\n",
    "\\begin{align*}\n",
    "f(\\theta) = \\frac{1}{n} \\sum_{k=1}^n f_k(\\theta).\n",
    "\\end{align*}\n",
    "\n",
    "This happens when the cost function is separable with respect to the data points, a common feature of state-of-the-art machine learning problems.\n",
    "\n",
    "Incremental proximal method, in its simplest form, has the following iteration structure:\n",
    "\n",
    "\\begin{align*}\n",
    "\\theta_k = \\arg \\min_\\theta f_k(\\theta) + \\lambda \\|\\theta - \\theta_{k-1}\\|_2^2.\n",
    "\\end{align*}\n",
    "\n",
    "Of course, this problem is not always tractable for generic $f_k$. In this note, we just put,\n",
    "\n",
    "\\begin{align*}\n",
    "f_k(\\theta) = (y_k - x_k^\\top \\theta)^2,\n",
    "\\end{align*}\n",
    "\n",
    "i.e., we just consider the linear regression problem.\n",
    "\n",
    "Let's first generate the data that agrees with this cost function (what this means requires more explanation of the relationship between probability and optimization). We simply generate it as follows:\n",
    "\n",
    "\\begin{align*}\n",
    "x_k &\\sim \\mathcal{N}(0,I) \\\\\n",
    "y_k &\\sim \\mathcal{N}(x_k^\\top \\theta,\\lambda).\n",
    "\\end{align*}\n",
    "\n",
    "Notice that in what follows we assume that $x_k$ are fixed and known (as inputs in the regression setting). The unknown $\\theta$ is fixed (although I generate it uniformly random), so there is nothing Bayesian in the estimation part (well, there is, but it's complicated)."
   ]
  },
  {
   "cell_type": "code",
   "execution_count": 87,
   "metadata": {},
   "outputs": [
    {
     "data": {
      "image/png": "[encoded data removed]",
      "text/plain": [
       "<matplotlib.figure.Figure at 0x10a51b9e8>"
      ]
     },
     "metadata": {},
     "output_type": "display_data"
    }
   ],
   "source": [
    "import numpy as np\n",
    "import matplotlib.pyplot as plt\n",
    "\n",
    "# generate data from the linear model\n",
    "d = 2\n",
    "n = 10000\n",
    "X = np.random.randn(d,n)\n",
    "th = np.random.uniform(0,5,(d,1))\n",
    "\n",
    "lamb = 0.1;\n",
    "\n",
    "y = np.transpose(X).dot(th) + np.multiply(np.sqrt(lam),np.random.randn(n,1))\n",
    "\n",
    "plt.plot(y)\n",
    "plt.show()\n",
    "\n",
    "# how data look like"
   ]
  },
  {
   "cell_type": "markdown",
   "metadata": {},
   "source": [
    "Now, we are ready to go for the implementation. Recall that the iteration we want to implement is the following,\n",
    "\n",
    "\\begin{align*}\n",
    "\\theta_k = \\arg \\min_\\theta (y_k - x_k^\\top \\theta)^2 + \\lambda \\|\\theta - \\theta_{k-1}\\|_2^2\n",
    "\\end{align*}\n",
    "\n",
    "With a little bit of linear algebra, one can arrive that,\n",
    "\n",
    "\\begin{align*}\n",
    "\\theta_k = \\theta_{k-1} + \\frac{x_k (y_k - x_k^\\top \\theta_{k-1})}{\\lambda + x_k^\\top x_k}\n",
    "\\end{align*}\n",
    "\n",
    "where $y_k$ is selected from the dataset randomly, the time index $k$ is artificial. Here is the code snippet for this part:"
   ]
  },
  {
   "cell_type": "code",
   "execution_count": 91,
   "metadata": {},
   "outputs": [],
   "source": [
    "thest = np.random.uniform(0,30,(d,1)) # initialization of the parameter estimate\n",
    "E = []\n",
    "lam = 100; # This parameter has to be different than the data generation, for the reasons not straightforwad to explain.\n",
    "\n",
    "for t in range(0,10*n):\n",
    "    ind = np.random.randint(0,high=n)\n",
    "    thest = np.add(thest,np.divide(np.multiply(X[:,[ind]],y[ind] - np.dot(X[:,ind],thest)), lam + np.dot(X[:,ind],X[:,ind])))\n",
    "    E.append(np.linalg.norm(np.subtract(th,thest)))"
   ]
  },
  {
   "cell_type": "code",
   "execution_count": 92,
   "metadata": {},
   "outputs": [
    {
     "name": "stdout",
     "output_type": "stream",
     "text": [
      "100\n",
      "[[ 2.98648451]\n",
      " [ 1.45837024]]\n",
      "[[ 2.97612556]\n",
      " [ 1.45095665]]\n"
     ]
    }
   ],
   "source": [
    "# Let's see how close we are to the true parameter.\n",
    "print(lam)\n",
    "print(th)\n",
    "print(thest)"
   ]
  },
  {
   "cell_type": "code",
   "execution_count": null,
   "metadata": {},
   "outputs": [],
   "source": []
  }
 ],
 "metadata": {
  "kernelspec": {
   "display_name": "Python 3",
   "language": "python",
   "name": "python3"
  },
  "language_info": {
   "codemirror_mode": {
    "name": "ipython",
    "version": 3
   },
   "file_extension": ".py",
   "mimetype": "text/x-python",
   "name": "python",
   "nbconvert_exporter": "python",
   "pygments_lexer": "ipython3",
   "version": "3.6.2"
  }
 },
 "nbformat": 4,
 "nbformat_minor": 2
}
